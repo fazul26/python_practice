{
 "cells": [
  {
   "cell_type": "markdown",
   "id": "28e4dd8f",
   "metadata": {},
   "source": [
    "# Day 6 Practice"
   ]
  },
  {
   "cell_type": "code",
   "execution_count": 1,
   "id": "fce0fd77",
   "metadata": {},
   "outputs": [],
   "source": [
    "#Set methods"
   ]
  },
  {
   "cell_type": "code",
   "execution_count": 2,
   "id": "6dfa4022",
   "metadata": {},
   "outputs": [],
   "source": [
    "s1={\"kurnool\",\"anantapur\",\"kadapa\",\"chitoor\"}"
   ]
  },
  {
   "cell_type": "code",
   "execution_count": 3,
   "id": "e1c01c37",
   "metadata": {},
   "outputs": [
    {
     "data": {
      "text/plain": [
       "{'anantapur', 'chitoor', 'kadapa', 'kurnool'}"
      ]
     },
     "execution_count": 3,
     "metadata": {},
     "output_type": "execute_result"
    }
   ],
   "source": [
    "s1"
   ]
  },
  {
   "cell_type": "code",
   "execution_count": 4,
   "id": "b8334b41",
   "metadata": {},
   "outputs": [
    {
     "data": {
      "text/plain": [
       "set"
      ]
     },
     "execution_count": 4,
     "metadata": {},
     "output_type": "execute_result"
    }
   ],
   "source": [
    "type(s1)"
   ]
  },
  {
   "cell_type": "code",
   "execution_count": 5,
   "id": "61ca02fe",
   "metadata": {},
   "outputs": [
    {
     "data": {
      "text/plain": [
       "4"
      ]
     },
     "execution_count": 5,
     "metadata": {},
     "output_type": "execute_result"
    }
   ],
   "source": [
    "len(s1)"
   ]
  },
  {
   "cell_type": "code",
   "execution_count": 9,
   "id": "4108ccbc",
   "metadata": {},
   "outputs": [
    {
     "data": {
      "text/plain": [
       "{'Rayalaseema', 'anantapur', 'chitoor', 'kadapa', 'kurnool'}"
      ]
     },
     "execution_count": 9,
     "metadata": {},
     "output_type": "execute_result"
    }
   ],
   "source": [
    "s1.add('Rayalaseema')\n",
    "s1"
   ]
  },
  {
   "cell_type": "code",
   "execution_count": 10,
   "id": "47961390",
   "metadata": {},
   "outputs": [
    {
     "data": {
      "text/plain": [
       "{'Rayalaseema', 'anantapur', 'chitoor', 'kadapa', 'kurnool'}"
      ]
     },
     "execution_count": 10,
     "metadata": {},
     "output_type": "execute_result"
    }
   ],
   "source": [
    "s2=s1.copy()\n",
    "s2"
   ]
  },
  {
   "cell_type": "code",
   "execution_count": 11,
   "id": "a0bf36c0",
   "metadata": {},
   "outputs": [
    {
     "data": {
      "text/plain": [
       "{'Rayalaseema', 'anantapur', 'kadapa', 'kurnool'}"
      ]
     },
     "execution_count": 11,
     "metadata": {},
     "output_type": "execute_result"
    }
   ],
   "source": [
    "s2.pop()\n",
    "s2"
   ]
  },
  {
   "cell_type": "code",
   "execution_count": 12,
   "id": "06c062d9",
   "metadata": {},
   "outputs": [],
   "source": [
    "s3={1,2,3,4,5}\n",
    "s4={4,5,6,7,8}"
   ]
  },
  {
   "cell_type": "code",
   "execution_count": 13,
   "id": "d9ed0092",
   "metadata": {},
   "outputs": [
    {
     "data": {
      "text/plain": [
       "{1, 2, 3}"
      ]
     },
     "execution_count": 13,
     "metadata": {},
     "output_type": "execute_result"
    }
   ],
   "source": [
    "s5=s3.difference(s4)\n",
    "s5"
   ]
  },
  {
   "cell_type": "code",
   "execution_count": 14,
   "id": "6cd11eb8",
   "metadata": {},
   "outputs": [
    {
     "data": {
      "text/plain": [
       "{6, 7, 8}"
      ]
     },
     "execution_count": 14,
     "metadata": {},
     "output_type": "execute_result"
    }
   ],
   "source": [
    "s5=s4.difference(s3)\n",
    "s5"
   ]
  },
  {
   "cell_type": "code",
   "execution_count": 16,
   "id": "0d13db3a",
   "metadata": {},
   "outputs": [
    {
     "data": {
      "text/plain": [
       "{4, 5}"
      ]
     },
     "execution_count": 16,
     "metadata": {},
     "output_type": "execute_result"
    }
   ],
   "source": [
    "s5=s3.intersection(s4)\n",
    "s5               "
   ]
  },
  {
   "cell_type": "code",
   "execution_count": 17,
   "id": "08574aa1",
   "metadata": {},
   "outputs": [
    {
     "data": {
      "text/plain": [
       "{'Rayalaseema', 'anantapur', 'chitoor', 'kadapa', 'kurnool'}"
      ]
     },
     "execution_count": 17,
     "metadata": {},
     "output_type": "execute_result"
    }
   ],
   "source": [
    "s1"
   ]
  },
  {
   "cell_type": "code",
   "execution_count": 18,
   "id": "de13abd7",
   "metadata": {},
   "outputs": [
    {
     "data": {
      "text/plain": [
       "{'anantapur', 'chitoor', 'kadapa', 'kurnool'}"
      ]
     },
     "execution_count": 18,
     "metadata": {},
     "output_type": "execute_result"
    }
   ],
   "source": [
    "s1.remove(\"Rayalaseema\")\n",
    "s1"
   ]
  },
  {
   "cell_type": "code",
   "execution_count": 21,
   "id": "df952c6e",
   "metadata": {},
   "outputs": [],
   "source": [
    "s3.update(s4)\n"
   ]
  },
  {
   "cell_type": "code",
   "execution_count": 22,
   "id": "de726bf4",
   "metadata": {},
   "outputs": [
    {
     "data": {
      "text/plain": [
       "{1, 2, 3, 4, 5, 6, 7, 8}"
      ]
     },
     "execution_count": 22,
     "metadata": {},
     "output_type": "execute_result"
    }
   ],
   "source": [
    "s3"
   ]
  },
  {
   "cell_type": "code",
   "execution_count": 24,
   "id": "2f11a394",
   "metadata": {},
   "outputs": [
    {
     "data": {
      "text/plain": [
       "set()"
      ]
     },
     "execution_count": 24,
     "metadata": {},
     "output_type": "execute_result"
    }
   ],
   "source": [
    "s3.clear()\n",
    "s3"
   ]
  },
  {
   "cell_type": "code",
   "execution_count": 25,
   "id": "b6d085fd",
   "metadata": {},
   "outputs": [],
   "source": [
    "##Function Methods"
   ]
  },
  {
   "cell_type": "code",
   "execution_count": 28,
   "id": "5ae416e4",
   "metadata": {},
   "outputs": [],
   "source": [
    "def details():\n",
    "    print(f\"'my self Fazul,(am a engineer')\")"
   ]
  },
  {
   "cell_type": "code",
   "execution_count": 30,
   "id": "282ea5ec",
   "metadata": {},
   "outputs": [
    {
     "name": "stdout",
     "output_type": "stream",
     "text": [
      "'my self Fazul,(am a engineer')\n"
     ]
    }
   ],
   "source": [
    "details()"
   ]
  },
  {
   "cell_type": "code",
   "execution_count": 37,
   "id": "8dd83601",
   "metadata": {},
   "outputs": [],
   "source": [
    "def faz_details(name_type,age_type,college_type):\n",
    "    print(f\"'my self {name_type}\")\n",
    "    print(f\"'i am {age_type} old\")\n",
    "    print(f\"am from {college_type} clg\")"
   ]
  },
  {
   "cell_type": "code",
   "execution_count": 39,
   "id": "2f02c5bc",
   "metadata": {},
   "outputs": [
    {
     "name": "stdout",
     "output_type": "stream",
     "text": [
      "'my self fazul\n",
      "'i am 29 old\n",
      "am from safa clg\n"
     ]
    }
   ],
   "source": [
    "faz_details('fazul',29,'safa')"
   ]
  },
  {
   "cell_type": "code",
   "execution_count": 44,
   "id": "ea3067d6",
   "metadata": {},
   "outputs": [],
   "source": [
    "def faz_details(name_type='fazul',age_type=29,college_type='safa'):\n",
    "    print(f\"'my self {name_type}\")\n",
    "    print(f\"'i am {age_type} old\")\n",
    "    print(f\"am from {college_type} clg\")"
   ]
  },
  {
   "cell_type": "code",
   "execution_count": 45,
   "id": "98a9db1d",
   "metadata": {},
   "outputs": [
    {
     "name": "stdout",
     "output_type": "stream",
     "text": [
      "'my self fazul\n",
      "'i am 29 old\n",
      "am from safa clg\n"
     ]
    }
   ],
   "source": [
    "faz_details()"
   ]
  },
  {
   "cell_type": "code",
   "execution_count": 48,
   "id": "d7d2b5bb",
   "metadata": {},
   "outputs": [],
   "source": [
    "def my_family(child3, child2, child1):\n",
    "  print(\"The youngest child is \" + child3)\n",
    "\n"
   ]
  },
  {
   "cell_type": "code",
   "execution_count": 49,
   "id": "8561f785",
   "metadata": {},
   "outputs": [
    {
     "name": "stdout",
     "output_type": "stream",
     "text": [
      "The youngest child is hafi\n"
     ]
    }
   ],
   "source": [
    "my_family(child1='fazul',child3='hafi',child2='fayaz')"
   ]
  },
  {
   "cell_type": "code",
   "execution_count": 58,
   "id": "78d6c8d3",
   "metadata": {},
   "outputs": [],
   "source": [
    "def wish(*x):\n",
    "    print(f\"i wanted to learn {x} as a professional\")\n"
   ]
  },
  {
   "cell_type": "code",
   "execution_count": 59,
   "id": "46d21208",
   "metadata": {},
   "outputs": [
    {
     "name": "stdout",
     "output_type": "stream",
     "text": [
      "i wanted to learn ('python',) as a professional\n"
     ]
    }
   ],
   "source": [
    "wish('python')"
   ]
  },
  {
   "cell_type": "code",
   "execution_count": null,
   "id": "c61c6cf8",
   "metadata": {},
   "outputs": [],
   "source": [
    "#Class Methods"
   ]
  },
  {
   "cell_type": "code",
   "execution_count": 60,
   "id": "f6a9283c",
   "metadata": {},
   "outputs": [],
   "source": [
    "class sum():\n",
    "    a=5\n",
    "    b=10\n",
    "    c=a+b"
   ]
  },
  {
   "cell_type": "code",
   "execution_count": 63,
   "id": "728d96d1",
   "metadata": {},
   "outputs": [],
   "source": [
    "s1=sum()"
   ]
  },
  {
   "cell_type": "code",
   "execution_count": 64,
   "id": "fdae0eb4",
   "metadata": {},
   "outputs": [
    {
     "data": {
      "text/plain": [
       "15"
      ]
     },
     "execution_count": 64,
     "metadata": {},
     "output_type": "execute_result"
    }
   ],
   "source": [
    "s1.c"
   ]
  },
  {
   "cell_type": "code",
   "execution_count": 65,
   "id": "1d122af8",
   "metadata": {},
   "outputs": [],
   "source": [
    "class status:\n",
    "    def fazul(self):\n",
    "        print('he is a engg')\n",
    "    def balu(self):\n",
    "        print('he completed degree')"
   ]
  },
  {
   "cell_type": "code",
   "execution_count": 66,
   "id": "991a9c48",
   "metadata": {},
   "outputs": [],
   "source": [
    "c1=status()"
   ]
  },
  {
   "cell_type": "code",
   "execution_count": 68,
   "id": "fd289907",
   "metadata": {},
   "outputs": [
    {
     "name": "stdout",
     "output_type": "stream",
     "text": [
      "he is a engg\n"
     ]
    }
   ],
   "source": [
    "c1.fazul()"
   ]
  },
  {
   "cell_type": "code",
   "execution_count": 69,
   "id": "1009a150",
   "metadata": {},
   "outputs": [
    {
     "name": "stdout",
     "output_type": "stream",
     "text": [
      "he completed degree\n"
     ]
    }
   ],
   "source": [
    "c1.balu()"
   ]
  },
  {
   "cell_type": "code",
   "execution_count": 70,
   "id": "61d93419",
   "metadata": {},
   "outputs": [],
   "source": [
    "class phone:\n",
    "    color='black'\n",
    "    brand='oneplus'\n",
    "    modle='7t'\n",
    "    def display(self):\n",
    "        print('it is a amoled display')\n",
    "    def cost(self):\n",
    "        print('cost is 35000')"
   ]
  },
  {
   "cell_type": "code",
   "execution_count": 71,
   "id": "626b5cce",
   "metadata": {},
   "outputs": [],
   "source": [
    "p1=phone()"
   ]
  },
  {
   "cell_type": "code",
   "execution_count": 72,
   "id": "8f258558",
   "metadata": {},
   "outputs": [
    {
     "data": {
      "text/plain": [
       "'black'"
      ]
     },
     "execution_count": 72,
     "metadata": {},
     "output_type": "execute_result"
    }
   ],
   "source": [
    "p1.color"
   ]
  },
  {
   "cell_type": "code",
   "execution_count": 73,
   "id": "56b8ca45",
   "metadata": {},
   "outputs": [
    {
     "data": {
      "text/plain": [
       "'oneplus'"
      ]
     },
     "execution_count": 73,
     "metadata": {},
     "output_type": "execute_result"
    }
   ],
   "source": [
    "p1.brand"
   ]
  },
  {
   "cell_type": "code",
   "execution_count": 75,
   "id": "555e6dad",
   "metadata": {},
   "outputs": [
    {
     "data": {
      "text/plain": [
       "'7t'"
      ]
     },
     "execution_count": 75,
     "metadata": {},
     "output_type": "execute_result"
    }
   ],
   "source": [
    "p1.modle"
   ]
  },
  {
   "cell_type": "code",
   "execution_count": 76,
   "id": "27abc807",
   "metadata": {},
   "outputs": [
    {
     "name": "stdout",
     "output_type": "stream",
     "text": [
      "it is a amoled display\n"
     ]
    }
   ],
   "source": [
    "p1.display()"
   ]
  },
  {
   "cell_type": "code",
   "execution_count": 77,
   "id": "16532a40",
   "metadata": {},
   "outputs": [
    {
     "name": "stdout",
     "output_type": "stream",
     "text": [
      "cost is 35000\n"
     ]
    }
   ],
   "source": [
    "p1.cost()"
   ]
  },
  {
   "cell_type": "code",
   "execution_count": 92,
   "id": "7abb60e4",
   "metadata": {},
   "outputs": [],
   "source": [
    "class person:\n",
    "    def details(self,name):\n",
    "        self.name=name\n",
    "    def display(self):\n",
    "        return self.name\n",
    "        return self.name\n",
    "    def show(self):\n",
    "        print(f\"my self,{self.name}\")\n",
    "        "
   ]
  },
  {
   "cell_type": "code",
   "execution_count": 93,
   "id": "f2edcbf8",
   "metadata": {},
   "outputs": [],
   "source": [
    "p2=person()"
   ]
  },
  {
   "cell_type": "code",
   "execution_count": 95,
   "id": "bb036591",
   "metadata": {},
   "outputs": [],
   "source": [
    "p2.details('fazul')"
   ]
  },
  {
   "cell_type": "code",
   "execution_count": 96,
   "id": "802e1e8c",
   "metadata": {},
   "outputs": [
    {
     "data": {
      "text/plain": [
       "'fazul'"
      ]
     },
     "execution_count": 96,
     "metadata": {},
     "output_type": "execute_result"
    }
   ],
   "source": [
    "p2.display()"
   ]
  },
  {
   "cell_type": "code",
   "execution_count": 97,
   "id": "c6f6ea5b",
   "metadata": {},
   "outputs": [
    {
     "name": "stdout",
     "output_type": "stream",
     "text": [
      "my self,fazul\n"
     ]
    }
   ],
   "source": [
    "p2.show()"
   ]
  },
  {
   "cell_type": "code",
   "execution_count": null,
   "id": "215d1717",
   "metadata": {},
   "outputs": [],
   "source": []
  }
 ],
 "metadata": {
  "kernelspec": {
   "display_name": "Python 3",
   "language": "python",
   "name": "python3"
  },
  "language_info": {
   "codemirror_mode": {
    "name": "ipython",
    "version": 3
   },
   "file_extension": ".py",
   "mimetype": "text/x-python",
   "name": "python",
   "nbconvert_exporter": "python",
   "pygments_lexer": "ipython3",
   "version": "3.8.8"
  }
 },
 "nbformat": 4,
 "nbformat_minor": 5
}
