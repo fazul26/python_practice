{
 "cells": [
  {
   "cell_type": "markdown",
   "id": "5bc90f14",
   "metadata": {},
   "source": [
    "# Day 4 Practice"
   ]
  },
  {
   "cell_type": "code",
   "execution_count": 1,
   "id": "fccf7d04",
   "metadata": {},
   "outputs": [],
   "source": [
    "#tuple"
   ]
  },
  {
   "cell_type": "code",
   "execution_count": 2,
   "id": "dbea0646",
   "metadata": {},
   "outputs": [],
   "source": [
    "x=('fazul','ayaan','amreen')"
   ]
  },
  {
   "cell_type": "code",
   "execution_count": 3,
   "id": "01a44005",
   "metadata": {},
   "outputs": [
    {
     "data": {
      "text/plain": [
       "('fazul', 'ayaan', 'amreen')"
      ]
     },
     "execution_count": 3,
     "metadata": {},
     "output_type": "execute_result"
    }
   ],
   "source": [
    "x"
   ]
  },
  {
   "cell_type": "code",
   "execution_count": 4,
   "id": "16e90136",
   "metadata": {},
   "outputs": [
    {
     "data": {
      "text/plain": [
       "tuple"
      ]
     },
     "execution_count": 4,
     "metadata": {},
     "output_type": "execute_result"
    }
   ],
   "source": [
    "type(x)"
   ]
  },
  {
   "cell_type": "code",
   "execution_count": 5,
   "id": "7027e448",
   "metadata": {},
   "outputs": [
    {
     "data": {
      "text/plain": [
       "3"
      ]
     },
     "execution_count": 5,
     "metadata": {},
     "output_type": "execute_result"
    }
   ],
   "source": [
    "len(x)"
   ]
  },
  {
   "cell_type": "code",
   "execution_count": 6,
   "id": "eca1d906",
   "metadata": {},
   "outputs": [],
   "source": [
    "x=('sachin','sehwag','kohli','dhoni','rohit','buvi')   #Slicing"
   ]
  },
  {
   "cell_type": "code",
   "execution_count": 7,
   "id": "7af4053a",
   "metadata": {},
   "outputs": [
    {
     "data": {
      "text/plain": [
       "'kohli'"
      ]
     },
     "execution_count": 7,
     "metadata": {},
     "output_type": "execute_result"
    }
   ],
   "source": [
    "x[2]"
   ]
  },
  {
   "cell_type": "code",
   "execution_count": 8,
   "id": "d5b6c556",
   "metadata": {},
   "outputs": [
    {
     "data": {
      "text/plain": [
       "'dhoni'"
      ]
     },
     "execution_count": 8,
     "metadata": {},
     "output_type": "execute_result"
    }
   ],
   "source": [
    "x[-3]"
   ]
  },
  {
   "cell_type": "code",
   "execution_count": 9,
   "id": "4417c76b",
   "metadata": {},
   "outputs": [
    {
     "data": {
      "text/plain": [
       "('sehwag', 'kohli', 'dhoni', 'rohit', 'buvi')"
      ]
     },
     "execution_count": 9,
     "metadata": {},
     "output_type": "execute_result"
    }
   ],
   "source": [
    "x[1:]"
   ]
  },
  {
   "cell_type": "code",
   "execution_count": 10,
   "id": "82278001",
   "metadata": {},
   "outputs": [
    {
     "data": {
      "text/plain": [
       "('kohli', 'dhoni', 'rohit')"
      ]
     },
     "execution_count": 10,
     "metadata": {},
     "output_type": "execute_result"
    }
   ],
   "source": [
    "x[2:5]"
   ]
  },
  {
   "cell_type": "code",
   "execution_count": 11,
   "id": "76a27808",
   "metadata": {},
   "outputs": [
    {
     "data": {
      "text/plain": [
       "('buvi',)"
      ]
     },
     "execution_count": 11,
     "metadata": {},
     "output_type": "execute_result"
    }
   ],
   "source": [
    "x[-1:]"
   ]
  },
  {
   "cell_type": "code",
   "execution_count": 12,
   "id": "6b9ff357",
   "metadata": {},
   "outputs": [
    {
     "data": {
      "text/plain": [
       "('kohli', 'dhoni', 'rohit')"
      ]
     },
     "execution_count": 12,
     "metadata": {},
     "output_type": "execute_result"
    }
   ],
   "source": [
    "x[-4:-1]"
   ]
  },
  {
   "cell_type": "code",
   "execution_count": 13,
   "id": "3a9fb282",
   "metadata": {},
   "outputs": [],
   "source": [
    "tup=('fazul',29,'male',5+4j)"
   ]
  },
  {
   "cell_type": "code",
   "execution_count": 14,
   "id": "dd35c314",
   "metadata": {},
   "outputs": [
    {
     "data": {
      "text/plain": [
       "('fazul', 29, 'male', (5+4j))"
      ]
     },
     "execution_count": 14,
     "metadata": {},
     "output_type": "execute_result"
    }
   ],
   "source": [
    "tup"
   ]
  },
  {
   "cell_type": "code",
   "execution_count": 15,
   "id": "b262e251",
   "metadata": {},
   "outputs": [
    {
     "data": {
      "text/plain": [
       "tuple"
      ]
     },
     "execution_count": 15,
     "metadata": {},
     "output_type": "execute_result"
    }
   ],
   "source": [
    "type(tup)"
   ]
  },
  {
   "cell_type": "code",
   "execution_count": 19,
   "id": "b2baa931",
   "metadata": {},
   "outputs": [],
   "source": [
    "tup=('fazul',29,'male',5+4j,'kurnool','AP')"
   ]
  },
  {
   "cell_type": "code",
   "execution_count": 20,
   "id": "cb291d15",
   "metadata": {},
   "outputs": [
    {
     "data": {
      "text/plain": [
       "('fazul', 29, 'male', (5+4j), 'kurnool', 'AP')"
      ]
     },
     "execution_count": 20,
     "metadata": {},
     "output_type": "execute_result"
    }
   ],
   "source": [
    "tup"
   ]
  },
  {
   "cell_type": "code",
   "execution_count": 25,
   "id": "acc02518",
   "metadata": {},
   "outputs": [],
   "source": [
    "tup=('fazul',29,'male',5+4j,'kurnool','AP')       #Addition\n",
    "tup1=('b.tech','eee',2012)\n",
    "tup3=tup+tup1"
   ]
  },
  {
   "cell_type": "code",
   "execution_count": 26,
   "id": "45483e8e",
   "metadata": {},
   "outputs": [
    {
     "data": {
      "text/plain": [
       "('fazul', 29, 'male', (5+4j), 'kurnool', 'AP', 'b.tech', 'eee', 2012)"
      ]
     },
     "execution_count": 26,
     "metadata": {},
     "output_type": "execute_result"
    }
   ],
   "source": [
    "tup3"
   ]
  },
  {
   "cell_type": "code",
   "execution_count": 27,
   "id": "b1396b95",
   "metadata": {},
   "outputs": [],
   "source": [
    "tup3=tup1*2               #multiply"
   ]
  },
  {
   "cell_type": "code",
   "execution_count": 28,
   "id": "3c21d55f",
   "metadata": {},
   "outputs": [
    {
     "data": {
      "text/plain": [
       "('b.tech', 'eee', 2012, 'b.tech', 'eee', 2012)"
      ]
     },
     "execution_count": 28,
     "metadata": {},
     "output_type": "execute_result"
    }
   ],
   "source": [
    "tup3"
   ]
  },
  {
   "cell_type": "code",
   "execution_count": 31,
   "id": "0d49fb20",
   "metadata": {},
   "outputs": [
    {
     "name": "stdout",
     "output_type": "stream",
     "text": [
      "yes he is in the list\n"
     ]
    }
   ],
   "source": [
    "tup=('fazul',29,'male',5+4j,'kurnool','AP')         #if-Else condition\n",
    "if 'fazul' in tup:\n",
    "    print('yes he is in the list')\n",
    "else:\n",
    "    print('he is not in list')"
   ]
  },
  {
   "cell_type": "code",
   "execution_count": 33,
   "id": "5eb20388",
   "metadata": {},
   "outputs": [
    {
     "name": "stdout",
     "output_type": "stream",
     "text": [
      "fazul\n",
      "29\n",
      "male\n",
      "(5+4j)\n",
      "kurnool\n",
      "AP\n"
     ]
    }
   ],
   "source": [
    "tup=('fazul',29,'male',5+4j,'kurnool','AP')             #for loop\n",
    "for x in tup:\n",
    "    print(x)"
   ]
  },
  {
   "cell_type": "code",
   "execution_count": 42,
   "id": "cd405dff",
   "metadata": {},
   "outputs": [
    {
     "data": {
      "text/plain": [
       "'a'"
      ]
     },
     "execution_count": 42,
     "metadata": {},
     "output_type": "execute_result"
    }
   ],
   "source": [
    "x=('a')\n",
    "x"
   ]
  },
  {
   "cell_type": "code",
   "execution_count": 43,
   "id": "001f9359",
   "metadata": {},
   "outputs": [
    {
     "data": {
      "text/plain": [
       "str"
      ]
     },
     "execution_count": 43,
     "metadata": {},
     "output_type": "execute_result"
    }
   ],
   "source": [
    "type(x)"
   ]
  },
  {
   "cell_type": "code",
   "execution_count": 44,
   "id": "42b8a39e",
   "metadata": {},
   "outputs": [
    {
     "data": {
      "text/plain": [
       "('a',)"
      ]
     },
     "execution_count": 44,
     "metadata": {},
     "output_type": "execute_result"
    }
   ],
   "source": [
    "x=('a',)\n",
    "x"
   ]
  },
  {
   "cell_type": "code",
   "execution_count": 45,
   "id": "f28eae01",
   "metadata": {},
   "outputs": [
    {
     "data": {
      "text/plain": [
       "tuple"
      ]
     },
     "execution_count": 45,
     "metadata": {},
     "output_type": "execute_result"
    }
   ],
   "source": [
    "type(x)"
   ]
  },
  {
   "cell_type": "code",
   "execution_count": 50,
   "id": "13f981b8",
   "metadata": {},
   "outputs": [
    {
     "name": "stdout",
     "output_type": "stream",
     "text": [
      "('sachin', 'kohli', 'dhoni')\n",
      "(10, 18, 7)\n",
      "((10+1j), (18+1j), (7+1j))\n"
     ]
    }
   ],
   "source": [
    "tup=('sachin','kohli','dhoni')\n",
    "tup1=(10,18,7)\n",
    "tup2=(10+1j,18+1j,7+1j)\n",
    "print(tup)\n",
    "print(tup1)\n",
    "print(tup2)"
   ]
  },
  {
   "cell_type": "code",
   "execution_count": 55,
   "id": "4a4e53e5",
   "metadata": {},
   "outputs": [
    {
     "name": "stdout",
     "output_type": "stream",
     "text": [
      "enter first number10\n",
      "enter second number20\n"
     ]
    }
   ],
   "source": [
    "a=int(input('enter first number'))             #Using Input method for int\n",
    "b=int(input('enter second number'))\n",
    "c=a+b"
   ]
  },
  {
   "cell_type": "code",
   "execution_count": 56,
   "id": "fd581304",
   "metadata": {},
   "outputs": [
    {
     "data": {
      "text/plain": [
       "30"
      ]
     },
     "execution_count": 56,
     "metadata": {},
     "output_type": "execute_result"
    }
   ],
   "source": [
    "c"
   ]
  },
  {
   "cell_type": "code",
   "execution_count": 53,
   "id": "eb42eada",
   "metadata": {},
   "outputs": [
    {
     "name": "stdout",
     "output_type": "stream",
     "text": [
      "enter first_nameFazul\n",
      "enter middle_nameRahaman\n",
      "enter last_namec Shaik\n"
     ]
    }
   ],
   "source": [
    "f_name=str(input('enter first_name'))         #Using Input method for string\n",
    "m_name=str(input('enter middle_name'))\n",
    "l_name=str(input('enter last_name'))\n",
    "full_name=f_name+' '+m_name+' '+l_name"
   ]
  },
  {
   "cell_type": "code",
   "execution_count": 54,
   "id": "845fa1cd",
   "metadata": {},
   "outputs": [
    {
     "data": {
      "text/plain": [
       "'Fazul Rahaman c Shaik'"
      ]
     },
     "execution_count": 54,
     "metadata": {},
     "output_type": "execute_result"
    }
   ],
   "source": [
    "full_name"
   ]
  },
  {
   "cell_type": "code",
   "execution_count": null,
   "id": "46f1d19a",
   "metadata": {},
   "outputs": [],
   "source": []
  }
 ],
 "metadata": {
  "kernelspec": {
   "display_name": "Python 3",
   "language": "python",
   "name": "python3"
  },
  "language_info": {
   "codemirror_mode": {
    "name": "ipython",
    "version": 3
   },
   "file_extension": ".py",
   "mimetype": "text/x-python",
   "name": "python",
   "nbconvert_exporter": "python",
   "pygments_lexer": "ipython3",
   "version": "3.8.8"
  }
 },
 "nbformat": 4,
 "nbformat_minor": 5
}
