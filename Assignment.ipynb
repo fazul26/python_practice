{
 "cells": [
  {
   "cell_type": "markdown",
   "id": "911c6c65",
   "metadata": {},
   "source": [
    "# Assignment"
   ]
  },
  {
   "cell_type": "code",
   "execution_count": 43,
   "id": "2237a06b",
   "metadata": {},
   "outputs": [],
   "source": [
    "#position arguments"
   ]
  },
  {
   "cell_type": "code",
   "execution_count": 50,
   "id": "e18efb11",
   "metadata": {},
   "outputs": [],
   "source": [
    "def make_shirt(size,txt):\n",
    "    print('i have a shirt')\n",
    "    print(f\"my shirt size is {size}\\n{txt} printed on my shirt\")"
   ]
  },
  {
   "cell_type": "code",
   "execution_count": 48,
   "id": "0f2fc41d",
   "metadata": {},
   "outputs": [
    {
     "name": "stdout",
     "output_type": "stream",
     "text": [
      "i have a shirt\n",
      "my shirt size is XL\n",
      "Python printed on my shirt\n"
     ]
    }
   ],
   "source": [
    "make_shirt('XL','Python')"
   ]
  },
  {
   "cell_type": "code",
   "execution_count": 49,
   "id": "32befad8",
   "metadata": {},
   "outputs": [],
   "source": [
    "#Keyword argumets"
   ]
  },
  {
   "cell_type": "code",
   "execution_count": null,
   "id": "98713ddf",
   "metadata": {},
   "outputs": [],
   "source": [
    "def make_shirt(size,txt):\n",
    "    print('i have a shirt')\n",
    "    print(f\"my shirt size is {size}\\n{txt} printed on my shirt\")"
   ]
  },
  {
   "cell_type": "code",
   "execution_count": 51,
   "id": "a4b8ce83",
   "metadata": {},
   "outputs": [
    {
     "name": "stdout",
     "output_type": "stream",
     "text": [
      "i have a shirt\n",
      "my shirt size is XXL\n",
      "PYTHON printed on my shirt\n"
     ]
    }
   ],
   "source": [
    "make_shirt(size='XXL',txt='PYTHON')"
   ]
  },
  {
   "cell_type": "code",
   "execution_count": null,
   "id": "c122925e",
   "metadata": {},
   "outputs": [],
   "source": []
  },
  {
   "cell_type": "code",
   "execution_count": null,
   "id": "41f7cc2d",
   "metadata": {},
   "outputs": [],
   "source": []
  },
  {
   "cell_type": "code",
   "execution_count": null,
   "id": "ba59cfe1",
   "metadata": {},
   "outputs": [],
   "source": []
  },
  {
   "cell_type": "code",
   "execution_count": null,
   "id": "54024439",
   "metadata": {},
   "outputs": [],
   "source": []
  },
  {
   "cell_type": "code",
   "execution_count": null,
   "id": "248413dc",
   "metadata": {},
   "outputs": [],
   "source": [
    "##Default arguments"
   ]
  },
  {
   "cell_type": "code",
   "execution_count": 28,
   "id": "0746a175",
   "metadata": {},
   "outputs": [],
   "source": [
    "def large_shirts(name,msg='I LOVE PYTHON'):\n",
    "    print(f\"{name} {msg}\")\n"
   ]
  },
  {
   "cell_type": "code",
   "execution_count": 29,
   "id": "d182199f",
   "metadata": {},
   "outputs": [
    {
     "name": "stdout",
     "output_type": "stream",
     "text": [
      "fazul I LOVE PYTHON\n"
     ]
    }
   ],
   "source": [
    "large_shirts('fazul')"
   ]
  },
  {
   "cell_type": "code",
   "execution_count": 30,
   "id": "661ece12",
   "metadata": {},
   "outputs": [
    {
     "name": "stdout",
     "output_type": "stream",
     "text": [
      "large_shirts only for big people\n"
     ]
    }
   ],
   "source": [
    "large_shirts('large_shirts','only for big people')"
   ]
  },
  {
   "cell_type": "code",
   "execution_count": 31,
   "id": "9942699a",
   "metadata": {},
   "outputs": [
    {
     "name": "stdout",
     "output_type": "stream",
     "text": [
      "medium_shirts suits for thin people\n"
     ]
    }
   ],
   "source": [
    "large_shirts('medium_shirts','suits for thin people')"
   ]
  },
  {
   "cell_type": "code",
   "execution_count": 32,
   "id": "18a1fc6c",
   "metadata": {},
   "outputs": [
    {
     "name": "stdout",
     "output_type": "stream",
     "text": [
      "small_shirts suits for kids\n"
     ]
    }
   ],
   "source": [
    "large_shirts('small_shirts','suits for kids')"
   ]
  },
  {
   "cell_type": "code",
   "execution_count": 33,
   "id": "6c2c6f5e",
   "metadata": {},
   "outputs": [],
   "source": [
    "#describe City"
   ]
  },
  {
   "cell_type": "code",
   "execution_count": 37,
   "id": "77f645bd",
   "metadata": {},
   "outputs": [],
   "source": [
    "def describe_city(city_name,country_name='india'):\n",
    "    print(f\"the {city_name} is in {country_name.upper()}\")"
   ]
  },
  {
   "cell_type": "code",
   "execution_count": 38,
   "id": "e28c32bd",
   "metadata": {},
   "outputs": [
    {
     "name": "stdout",
     "output_type": "stream",
     "text": [
      "the hyderabad is in INDIA\n"
     ]
    }
   ],
   "source": [
    "describe_city('hyderabad','india')"
   ]
  },
  {
   "cell_type": "code",
   "execution_count": 39,
   "id": "a7a0a46f",
   "metadata": {},
   "outputs": [
    {
     "name": "stdout",
     "output_type": "stream",
     "text": [
      "the banglore is in INDIA\n"
     ]
    }
   ],
   "source": [
    "describe_city('banglore','india')"
   ]
  },
  {
   "cell_type": "code",
   "execution_count": 40,
   "id": "23c839da",
   "metadata": {},
   "outputs": [
    {
     "name": "stdout",
     "output_type": "stream",
     "text": [
      "the chennai is in INDIA\n"
     ]
    }
   ],
   "source": [
    "describe_city('chennai','india')"
   ]
  },
  {
   "cell_type": "code",
   "execution_count": 42,
   "id": "2aa4bffe",
   "metadata": {},
   "outputs": [
    {
     "name": "stdout",
     "output_type": "stream",
     "text": [
      "the Reykjavic is in ICELAND\n"
     ]
    }
   ],
   "source": [
    "describe_city('Reykjavic','iceland')"
   ]
  },
  {
   "cell_type": "code",
   "execution_count": null,
   "id": "52d8ab08",
   "metadata": {},
   "outputs": [],
   "source": []
  }
 ],
 "metadata": {
  "kernelspec": {
   "display_name": "Python 3",
   "language": "python",
   "name": "python3"
  },
  "language_info": {
   "codemirror_mode": {
    "name": "ipython",
    "version": 3
   },
   "file_extension": ".py",
   "mimetype": "text/x-python",
   "name": "python",
   "nbconvert_exporter": "python",
   "pygments_lexer": "ipython3",
   "version": "3.8.8"
  }
 },
 "nbformat": 4,
 "nbformat_minor": 5
}
