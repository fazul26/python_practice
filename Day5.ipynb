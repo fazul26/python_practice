{
 "cells": [
  {
   "cell_type": "markdown",
   "id": "a89727c1",
   "metadata": {},
   "source": [
    "# Day 5 Practice"
   ]
  },
  {
   "cell_type": "code",
   "execution_count": 45,
   "id": "eb152f21",
   "metadata": {},
   "outputs": [
    {
     "name": "stdout",
     "output_type": "stream",
     "text": [
      "enter your Gate score:70\n",
      "you are eligible for aplying ONGC exam\n"
     ]
    }
   ],
   "source": [
    "Gate_exam= str(input('enter your Gate score:'))\n",
    "if int(Gate_exam)>=70:\n",
    "    print('you are eligible for aplying ONGC exam')\n",
    "else:\n",
    "    print('you are not elgible for this')"
   ]
  },
  {
   "cell_type": "code",
   "execution_count": 46,
   "id": "083d2e3e",
   "metadata": {},
   "outputs": [
    {
     "name": "stdout",
     "output_type": "stream",
     "text": [
      "enter your Gate score:69\n",
      "you are not elgible for this\n"
     ]
    }
   ],
   "source": [
    "Gate_exam= str(input('enter your Gate score:'))\n",
    "if int(Gate_exam)>=70:\n",
    "    print('you are eligible for aplying ONGC exam')\n",
    "else:\n",
    "    print('you are not elgible for this')"
   ]
  },
  {
   "cell_type": "code",
   "execution_count": 47,
   "id": "b08b0760",
   "metadata": {},
   "outputs": [
    {
     "name": "stdout",
     "output_type": "stream",
     "text": [
      "enter your Gate score:50\n",
      "you are eligible for aplying BHEL exam\n"
     ]
    }
   ],
   "source": [
    "Gate_exam= str(input('enter your Gate score:'))\n",
    "if int(Gate_exam)>=70:\n",
    "    print('you are eligible for aplying ONGC exam')\n",
    "elif int(Gate_exam)>=50:\n",
    "    print('you are eligible for aplying BHEL exam')\n",
    "else:\n",
    "    print('you are not elgible for this')"
   ]
  },
  {
   "cell_type": "code",
   "execution_count": 1,
   "id": "6672c47e",
   "metadata": {},
   "outputs": [
    {
     "name": "stdout",
     "output_type": "stream",
     "text": [
      "6 * 1 = 6\n",
      "6 * 2 = 12\n",
      "6 * 3 = 18\n",
      "6 * 4 = 24\n",
      "6 * 5 = 30\n",
      "6 * 6 = 36\n",
      "6 * 7 = 42\n",
      "6 * 8 = 48\n",
      "6 * 9 = 54\n",
      "6 * 10 = 60\n"
     ]
    }
   ],
   "source": [
    "i=1                                 #while loop\n",
    "n=6\n",
    "while i<=10:\n",
    "    print(n,'*',i,'=',n*i)\n",
    "    i+=1"
   ]
  },
  {
   "cell_type": "code",
   "execution_count": 48,
   "id": "81da2d97",
   "metadata": {},
   "outputs": [
    {
     "name": "stdout",
     "output_type": "stream",
     "text": [
      "fazul\n",
      "famous\n",
      "first\n",
      "failure\n",
      "second\n",
      "third\n",
      "four\n"
     ]
    }
   ],
   "source": [
    "words = ('fazul','famous','first','failure','second','third','four')     #for loop strings\n",
    "for x in words:\n",
    "    print(x)"
   ]
  },
  {
   "cell_type": "code",
   "execution_count": 2,
   "id": "6d8f98bd",
   "metadata": {},
   "outputs": [
    {
     "name": "stdout",
     "output_type": "stream",
     "text": [
      "7 * 1 = 7\n",
      "7 * 2 = 14\n",
      "7 * 3 = 21\n",
      "7 * 4 = 28\n",
      "7 * 5 = 35\n",
      "7 * 6 = 42\n",
      "7 * 7 = 49\n",
      "7 * 8 = 56\n",
      "7 * 9 = 63\n"
     ]
    }
   ],
   "source": [
    "num=7                               #for loop\n",
    "for i in range(1,10):\n",
    "    print(num,'*',i,'=',num*i)"
   ]
  },
  {
   "cell_type": "code",
   "execution_count": 3,
   "id": "6c88c5ee",
   "metadata": {},
   "outputs": [],
   "source": [
    "#Dictionay built-in methods"
   ]
  },
  {
   "cell_type": "code",
   "execution_count": 4,
   "id": "1d738528",
   "metadata": {},
   "outputs": [],
   "source": [
    "my_dict= {'jeans':'levis','shirt':'calvin klien','j_amnt':1200,'s_amnt':1400}"
   ]
  },
  {
   "cell_type": "code",
   "execution_count": 8,
   "id": "44add0ec",
   "metadata": {},
   "outputs": [],
   "source": [
    "my_dict['j_amnt'] = 1500"
   ]
  },
  {
   "cell_type": "code",
   "execution_count": 9,
   "id": "7ef2c131",
   "metadata": {},
   "outputs": [
    {
     "data": {
      "text/plain": [
       "{'jeans': 'levis', 'shirt': 'calvin klien', 'j_amnt': 1500, 's_amnt': 1400}"
      ]
     },
     "execution_count": 9,
     "metadata": {},
     "output_type": "execute_result"
    }
   ],
   "source": [
    "my_dict"
   ]
  },
  {
   "cell_type": "code",
   "execution_count": 10,
   "id": "2b3abee0",
   "metadata": {},
   "outputs": [],
   "source": [
    "x= my_dict['jeans']"
   ]
  },
  {
   "cell_type": "code",
   "execution_count": 11,
   "id": "ccf2b1f8",
   "metadata": {},
   "outputs": [
    {
     "data": {
      "text/plain": [
       "'levis'"
      ]
     },
     "execution_count": 11,
     "metadata": {},
     "output_type": "execute_result"
    }
   ],
   "source": [
    "x"
   ]
  },
  {
   "cell_type": "code",
   "execution_count": 12,
   "id": "c96c3105",
   "metadata": {},
   "outputs": [],
   "source": [
    "x=my_dict.keys()"
   ]
  },
  {
   "cell_type": "code",
   "execution_count": 13,
   "id": "b9c228b9",
   "metadata": {},
   "outputs": [
    {
     "data": {
      "text/plain": [
       "dict_keys(['jeans', 'shirt', 'j_amnt', 's_amnt'])"
      ]
     },
     "execution_count": 13,
     "metadata": {},
     "output_type": "execute_result"
    }
   ],
   "source": [
    "x"
   ]
  },
  {
   "cell_type": "code",
   "execution_count": 14,
   "id": "ee391e0c",
   "metadata": {},
   "outputs": [
    {
     "data": {
      "text/plain": [
       "dict_values(['levis', 'calvin klien', 1500, 1400])"
      ]
     },
     "execution_count": 14,
     "metadata": {},
     "output_type": "execute_result"
    }
   ],
   "source": [
    "x=my_dict.values()\n",
    "x"
   ]
  },
  {
   "cell_type": "code",
   "execution_count": 16,
   "id": "dc10890d",
   "metadata": {},
   "outputs": [
    {
     "data": {
      "text/plain": [
       "{'jeans': 'levis',\n",
       " 'shirt': 'calvin klien',\n",
       " 'j_amnt': 1500,\n",
       " 's_amnt': 1400,\n",
       " 'shop': 'mitty'}"
      ]
     },
     "execution_count": 16,
     "metadata": {},
     "output_type": "execute_result"
    }
   ],
   "source": [
    "my_dict['shop'] = 'mitty'\n",
    "my_dict"
   ]
  },
  {
   "cell_type": "code",
   "execution_count": 17,
   "id": "b3f73400",
   "metadata": {},
   "outputs": [
    {
     "data": {
      "text/plain": [
       "dict_items([('jeans', 'levis'), ('shirt', 'calvin klien'), ('j_amnt', 1500), ('s_amnt', 1400), ('shop', 'mitty')])"
      ]
     },
     "execution_count": 17,
     "metadata": {},
     "output_type": "execute_result"
    }
   ],
   "source": [
    "my_dict.items()"
   ]
  },
  {
   "cell_type": "code",
   "execution_count": 18,
   "id": "c38c342a",
   "metadata": {},
   "outputs": [
    {
     "data": {
      "text/plain": [
       "5"
      ]
     },
     "execution_count": 18,
     "metadata": {},
     "output_type": "execute_result"
    }
   ],
   "source": [
    "len(my_dict)"
   ]
  },
  {
   "cell_type": "code",
   "execution_count": 19,
   "id": "aa049637",
   "metadata": {},
   "outputs": [
    {
     "data": {
      "text/plain": [
       "dict"
      ]
     },
     "execution_count": 19,
     "metadata": {},
     "output_type": "execute_result"
    }
   ],
   "source": [
    "type(my_dict)"
   ]
  },
  {
   "cell_type": "code",
   "execution_count": 20,
   "id": "6e5ae2ad",
   "metadata": {},
   "outputs": [],
   "source": [
    "my_new_dict = my_dict"
   ]
  },
  {
   "cell_type": "code",
   "execution_count": 21,
   "id": "05b56e74",
   "metadata": {},
   "outputs": [
    {
     "data": {
      "text/plain": [
       "{'jeans': 'levis',\n",
       " 'shirt': 'calvin klien',\n",
       " 'j_amnt': 1500,\n",
       " 's_amnt': 1400,\n",
       " 'shop': 'mitty'}"
      ]
     },
     "execution_count": 21,
     "metadata": {},
     "output_type": "execute_result"
    }
   ],
   "source": [
    "my_new_dict"
   ]
  },
  {
   "cell_type": "code",
   "execution_count": 22,
   "id": "38aae741",
   "metadata": {},
   "outputs": [
    {
     "data": {
      "text/plain": [
       "{'jeans': 'levis',\n",
       " 'shirt': 'calvin klien',\n",
       " 'j_amnt': 1500,\n",
       " 's_amnt': 1400,\n",
       " 'shop': 'mitty'}"
      ]
     },
     "execution_count": 22,
     "metadata": {},
     "output_type": "execute_result"
    }
   ],
   "source": [
    "my_dict"
   ]
  },
  {
   "cell_type": "code",
   "execution_count": 24,
   "id": "057f3aa8",
   "metadata": {},
   "outputs": [
    {
     "data": {
      "text/plain": [
       "'mitty'"
      ]
     },
     "execution_count": 24,
     "metadata": {},
     "output_type": "execute_result"
    }
   ],
   "source": [
    "my_dict.pop('shop')"
   ]
  },
  {
   "cell_type": "code",
   "execution_count": 28,
   "id": "45bf31c0",
   "metadata": {},
   "outputs": [
    {
     "data": {
      "text/plain": [
       "('s_amnt', 1400)"
      ]
     },
     "execution_count": 28,
     "metadata": {},
     "output_type": "execute_result"
    }
   ],
   "source": [
    "my_dict.popitem()"
   ]
  },
  {
   "cell_type": "code",
   "execution_count": 29,
   "id": "4a9efdc8",
   "metadata": {},
   "outputs": [],
   "source": [
    "my_dict.clear()"
   ]
  },
  {
   "cell_type": "code",
   "execution_count": 30,
   "id": "5bebd3e7",
   "metadata": {},
   "outputs": [
    {
     "data": {
      "text/plain": [
       "{}"
      ]
     },
     "execution_count": 30,
     "metadata": {},
     "output_type": "execute_result"
    }
   ],
   "source": [
    "my_dict"
   ]
  },
  {
   "cell_type": "code",
   "execution_count": 31,
   "id": "909f1325",
   "metadata": {},
   "outputs": [
    {
     "data": {
      "text/plain": [
       "{}"
      ]
     },
     "execution_count": 31,
     "metadata": {},
     "output_type": "execute_result"
    }
   ],
   "source": [
    "my_new_dict"
   ]
  },
  {
   "cell_type": "code",
   "execution_count": 32,
   "id": "77d66c79",
   "metadata": {},
   "outputs": [],
   "source": [
    "my_dict= {'jeans':'levis','shirt':'calvin klien','j_amnt':1200,'s_amnt':1400}"
   ]
  },
  {
   "cell_type": "code",
   "execution_count": 33,
   "id": "a3a20f98",
   "metadata": {},
   "outputs": [
    {
     "ename": "SyntaxError",
     "evalue": "cannot delete function call (<ipython-input-33-29772846ecbf>, line 1)",
     "output_type": "error",
     "traceback": [
      "\u001b[1;36m  File \u001b[1;32m\"<ipython-input-33-29772846ecbf>\"\u001b[1;36m, line \u001b[1;32m1\u001b[0m\n\u001b[1;33m    del my_dict()\u001b[0m\n\u001b[1;37m        ^\u001b[0m\n\u001b[1;31mSyntaxError\u001b[0m\u001b[1;31m:\u001b[0m cannot delete function call\n"
     ]
    }
   ],
   "source": [
    "del my_dict()"
   ]
  },
  {
   "cell_type": "code",
   "execution_count": 34,
   "id": "4625753a",
   "metadata": {},
   "outputs": [
    {
     "data": {
      "text/plain": [
       "{'jeans': 'levis', 'shirt': 'calvin klien', 'j_amnt': 1200, 's_amnt': 1400}"
      ]
     },
     "execution_count": 34,
     "metadata": {},
     "output_type": "execute_result"
    }
   ],
   "source": [
    "my_dict"
   ]
  },
  {
   "cell_type": "code",
   "execution_count": 35,
   "id": "28ab54ab",
   "metadata": {},
   "outputs": [],
   "source": [
    "del my_dict['shirt']"
   ]
  },
  {
   "cell_type": "code",
   "execution_count": 36,
   "id": "79d76cdc",
   "metadata": {},
   "outputs": [
    {
     "data": {
      "text/plain": [
       "{'jeans': 'levis', 'j_amnt': 1200, 's_amnt': 1400}"
      ]
     },
     "execution_count": 36,
     "metadata": {},
     "output_type": "execute_result"
    }
   ],
   "source": [
    "my_dict"
   ]
  },
  {
   "cell_type": "code",
   "execution_count": 37,
   "id": "210ca980",
   "metadata": {},
   "outputs": [
    {
     "ename": "SyntaxError",
     "evalue": "cannot delete function call (<ipython-input-37-05688153caee>, line 1)",
     "output_type": "error",
     "traceback": [
      "\u001b[1;36m  File \u001b[1;32m\"<ipython-input-37-05688153caee>\"\u001b[1;36m, line \u001b[1;32m1\u001b[0m\n\u001b[1;33m    del my_dict()\u001b[0m\n\u001b[1;37m        ^\u001b[0m\n\u001b[1;31mSyntaxError\u001b[0m\u001b[1;31m:\u001b[0m cannot delete function call\n"
     ]
    }
   ],
   "source": [
    "del my_dict()\n",
    "my_dict"
   ]
  },
  {
   "cell_type": "code",
   "execution_count": 38,
   "id": "a2f8cf63",
   "metadata": {},
   "outputs": [
    {
     "name": "stdout",
     "output_type": "stream",
     "text": [
      "jeans\n",
      "shirt\n",
      "j_amnt\n",
      "s_amnt\n"
     ]
    }
   ],
   "source": [
    "my_dict= {'jeans':'levis','shirt':'calvin klien','j_amnt':1200,'s_amnt':1400}     #for loop in ditionary\n",
    "for x in my_dict:\n",
    "    print(x)"
   ]
  },
  {
   "cell_type": "code",
   "execution_count": 41,
   "id": "1e5e4713",
   "metadata": {},
   "outputs": [
    {
     "name": "stdout",
     "output_type": "stream",
     "text": [
      "jeans levis\n",
      "shirt calvin klien\n",
      "j_amnt 1200\n",
      "s_amnt 1400\n"
     ]
    }
   ],
   "source": [
    "my_dict= {'jeans':'levis','shirt':'calvin klien','j_amnt':1200,'s_amnt':1400}\n",
    "for x,y in my_dict.items():\n",
    "    print(x,y)"
   ]
  },
  {
   "cell_type": "code",
   "execution_count": 43,
   "id": "bc92037f",
   "metadata": {},
   "outputs": [
    {
     "name": "stdout",
     "output_type": "stream",
     "text": [
      "levis\n",
      "calvin klien\n",
      "1200\n",
      "1400\n"
     ]
    }
   ],
   "source": [
    "for x in my_dict:\n",
    "    print(my_dict[x])"
   ]
  },
  {
   "cell_type": "code",
   "execution_count": 44,
   "id": "e4502961",
   "metadata": {},
   "outputs": [
    {
     "name": "stdout",
     "output_type": "stream",
     "text": [
      "yes it is in list\n",
      "yes it is in list\n",
      "yes it is in list\n",
      "yes it is in list\n"
     ]
    }
   ],
   "source": [
    "for x in my_dict.items():                   #if-Else condition in dictionary\n",
    "    if 'shirt'in my_dict:\n",
    "        print('yes it is in list')\n",
    "    else:\n",
    "        print('not in list')"
   ]
  },
  {
   "cell_type": "code",
   "execution_count": null,
   "id": "308ccf2c",
   "metadata": {},
   "outputs": [],
   "source": []
  }
 ],
 "metadata": {
  "kernelspec": {
   "display_name": "Python 3",
   "language": "python",
   "name": "python3"
  },
  "language_info": {
   "codemirror_mode": {
    "name": "ipython",
    "version": 3
   },
   "file_extension": ".py",
   "mimetype": "text/x-python",
   "name": "python",
   "nbconvert_exporter": "python",
   "pygments_lexer": "ipython3",
   "version": "3.8.8"
  }
 },
 "nbformat": 4,
 "nbformat_minor": 5
}
