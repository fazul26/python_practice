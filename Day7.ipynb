{
 "cells": [
  {
   "cell_type": "markdown",
   "id": "d92ff5a2",
   "metadata": {},
   "source": [
    "# Day 7 Practice"
   ]
  },
  {
   "cell_type": "code",
   "execution_count": 1,
   "id": "ee5c29b6",
   "metadata": {},
   "outputs": [],
   "source": [
    "#Inheritence"
   ]
  },
  {
   "cell_type": "code",
   "execution_count": 13,
   "id": "eacc4429",
   "metadata": {},
   "outputs": [],
   "source": [
    "class groom:\n",
    "    jeans='levis'\n",
    "    shirt='allen solly'\n",
    "    blazer='raymonds'\n",
    "class cloths(groom):\n",
    "    shoes='nike'\n",
    "    watch='fast track'"
   ]
  },
  {
   "cell_type": "code",
   "execution_count": 14,
   "id": "cc18dc6c",
   "metadata": {},
   "outputs": [],
   "source": [
    "g1=groom()"
   ]
  },
  {
   "cell_type": "code",
   "execution_count": 15,
   "id": "819dd4fc",
   "metadata": {},
   "outputs": [
    {
     "data": {
      "text/plain": [
       "'raymonds'"
      ]
     },
     "execution_count": 15,
     "metadata": {},
     "output_type": "execute_result"
    }
   ],
   "source": [
    "g1.jeans\n",
    "g1.shirt\n",
    "g1.blazer"
   ]
  },
  {
   "cell_type": "code",
   "execution_count": 16,
   "id": "31496384",
   "metadata": {},
   "outputs": [],
   "source": [
    "c1=cloths()"
   ]
  },
  {
   "cell_type": "code",
   "execution_count": 17,
   "id": "e974a542",
   "metadata": {},
   "outputs": [
    {
     "data": {
      "text/plain": [
       "'nike'"
      ]
     },
     "execution_count": 17,
     "metadata": {},
     "output_type": "execute_result"
    }
   ],
   "source": [
    "c1.shoes"
   ]
  },
  {
   "cell_type": "code",
   "execution_count": 18,
   "id": "6c2cff63",
   "metadata": {},
   "outputs": [
    {
     "data": {
      "text/plain": [
       "'allen solly'"
      ]
     },
     "execution_count": 18,
     "metadata": {},
     "output_type": "execute_result"
    }
   ],
   "source": [
    "c1.shirt"
   ]
  },
  {
   "cell_type": "code",
   "execution_count": null,
   "id": "07f9c840",
   "metadata": {},
   "outputs": [],
   "source": [
    "#Class methods"
   ]
  },
  {
   "cell_type": "code",
   "execution_count": 26,
   "id": "d6c90616",
   "metadata": {},
   "outputs": [],
   "source": [
    "class flights:\n",
    "    flight1='kurnool-hyd'\n",
    "    flight2='kurnool-bnglr'\n",
    "    \n",
    "    def display(self):\n",
    "        print('Welcome to Kurnool Airport')\n",
    "        print('these flights runs from kurnool airport')\n",
    "class another(flights):\n",
    "    flight3='kurnool-vizag'\n",
    "    flight4='kurnool-chennai'\n",
    "    def display1(self):\n",
    "        print('these flights also runs from kurnool airport')"
   ]
  },
  {
   "cell_type": "code",
   "execution_count": 27,
   "id": "bb7fea00",
   "metadata": {},
   "outputs": [],
   "source": [
    "f1=flights()"
   ]
  },
  {
   "cell_type": "code",
   "execution_count": 28,
   "id": "7a970a47",
   "metadata": {},
   "outputs": [
    {
     "data": {
      "text/plain": [
       "'kurnool-hyd'"
      ]
     },
     "execution_count": 28,
     "metadata": {},
     "output_type": "execute_result"
    }
   ],
   "source": [
    "f1.flight1"
   ]
  },
  {
   "cell_type": "code",
   "execution_count": 29,
   "id": "c152e5b1",
   "metadata": {},
   "outputs": [
    {
     "data": {
      "text/plain": [
       "'kurnool-bnglr'"
      ]
     },
     "execution_count": 29,
     "metadata": {},
     "output_type": "execute_result"
    }
   ],
   "source": [
    "f1.flight2"
   ]
  },
  {
   "cell_type": "code",
   "execution_count": 31,
   "id": "ff123c78",
   "metadata": {},
   "outputs": [
    {
     "name": "stdout",
     "output_type": "stream",
     "text": [
      "Welcome to Kurnool Airport\n",
      "these flights runs from kurnool airport\n"
     ]
    }
   ],
   "source": [
    "f1.display()"
   ]
  },
  {
   "cell_type": "code",
   "execution_count": 32,
   "id": "9e607edc",
   "metadata": {},
   "outputs": [],
   "source": [
    "f2=another()"
   ]
  },
  {
   "cell_type": "code",
   "execution_count": 34,
   "id": "d8a1bf73",
   "metadata": {},
   "outputs": [
    {
     "data": {
      "text/plain": [
       "'kurnool-chennai'"
      ]
     },
     "execution_count": 34,
     "metadata": {},
     "output_type": "execute_result"
    }
   ],
   "source": [
    "f2.flight4"
   ]
  },
  {
   "cell_type": "code",
   "execution_count": 35,
   "id": "ad0b9b61",
   "metadata": {},
   "outputs": [
    {
     "name": "stdout",
     "output_type": "stream",
     "text": [
      "Welcome to Kurnool Airport\n",
      "these flights runs from kurnool airport\n"
     ]
    }
   ],
   "source": [
    "f2.display()"
   ]
  },
  {
   "cell_type": "code",
   "execution_count": 36,
   "id": "6fa2edc5",
   "metadata": {},
   "outputs": [
    {
     "name": "stdout",
     "output_type": "stream",
     "text": [
      "these flights also runs from kurnool airport\n"
     ]
    }
   ],
   "source": [
    "f2.display1()"
   ]
  },
  {
   "cell_type": "code",
   "execution_count": 37,
   "id": "90374b6b",
   "metadata": {},
   "outputs": [],
   "source": [
    "#Init Constructor"
   ]
  },
  {
   "cell_type": "code",
   "execution_count": 47,
   "id": "18447a10",
   "metadata": {},
   "outputs": [],
   "source": [
    "class student:\n",
    "    def __init__(self,name,gender,location,area):\n",
    "        self.name=name\n",
    "        self.gender=gender\n",
    "        self.location=location\n",
    "        self.area=area\n",
    "        print('all above mentioned is my details')\n",
    "    def show_details(self):\n",
    "        print(f\" myself {self.name},gender is {self.gender},my location is {self.location} and it is in {self.area}\")"
   ]
  },
  {
   "cell_type": "code",
   "execution_count": 48,
   "id": "49d4715f",
   "metadata": {},
   "outputs": [
    {
     "name": "stdout",
     "output_type": "stream",
     "text": [
      "all above mentioned is my details\n"
     ]
    }
   ],
   "source": [
    "s1= student('fazul','male','near pumphouse','kurnool')"
   ]
  },
  {
   "cell_type": "code",
   "execution_count": 49,
   "id": "7df9af14",
   "metadata": {},
   "outputs": [
    {
     "name": "stdout",
     "output_type": "stream",
     "text": [
      " myself fazul,gender is male,my location is near pumphouse and it is in kurnool\n"
     ]
    }
   ],
   "source": [
    "s1.show_details()"
   ]
  },
  {
   "cell_type": "code",
   "execution_count": 50,
   "id": "c3de1e7a",
   "metadata": {},
   "outputs": [],
   "source": [
    "# Del constructor"
   ]
  },
  {
   "cell_type": "code",
   "execution_count": 51,
   "id": "ae589053",
   "metadata": {},
   "outputs": [],
   "source": [
    "class student:\n",
    "    def __del__(self,name,gender,location,area):\n",
    "        self.name=name\n",
    "        self.gender=gender\n",
    "        self.location=location\n",
    "        self.area=area\n",
    "        print('all above mentioned is my details')\n",
    "    def show_details(self):\n",
    "        print(f\" myself {self.name},gender is {self.gender},my location is {self.location} and it is in {self.area}\")"
   ]
  },
  {
   "cell_type": "code",
   "execution_count": 53,
   "id": "8ac88a71",
   "metadata": {},
   "outputs": [
    {
     "ename": "TypeError",
     "evalue": "student() takes no arguments",
     "output_type": "error",
     "traceback": [
      "\u001b[1;31m---------------------------------------------------------------------------\u001b[0m",
      "\u001b[1;31mTypeError\u001b[0m                                 Traceback (most recent call last)",
      "\u001b[1;32m<ipython-input-53-be074614ab97>\u001b[0m in \u001b[0;36m<module>\u001b[1;34m\u001b[0m\n\u001b[1;32m----> 1\u001b[1;33m \u001b[0ms1\u001b[0m\u001b[1;33m=\u001b[0m \u001b[0mstudent\u001b[0m\u001b[1;33m(\u001b[0m\u001b[1;34m'fazul'\u001b[0m\u001b[1;33m,\u001b[0m\u001b[1;34m'male'\u001b[0m\u001b[1;33m,\u001b[0m\u001b[1;34m'near pumphouse'\u001b[0m\u001b[1;33m,\u001b[0m\u001b[1;34m'kurnool'\u001b[0m\u001b[1;33m)\u001b[0m\u001b[1;33m\u001b[0m\u001b[1;33m\u001b[0m\u001b[0m\n\u001b[0m",
      "\u001b[1;31mTypeError\u001b[0m: student() takes no arguments"
     ]
    }
   ],
   "source": [
    "s1= student('fazul','male','near pumphouse','kurnool')"
   ]
  },
  {
   "cell_type": "code",
   "execution_count": 54,
   "id": "78929589",
   "metadata": {},
   "outputs": [],
   "source": [
    "# Dog class"
   ]
  },
  {
   "cell_type": "code",
   "execution_count": 67,
   "id": "d5b843ff",
   "metadata": {},
   "outputs": [],
   "source": [
    "class dog:\n",
    "    def __init__(self,name,sounds,trustworthy,friendly):\n",
    "        self.name=name\n",
    "        self.sounds=sounds\n",
    "        self.trustworthy=trustworthy\n",
    "        self.friendly=friendly\n",
    "        print('above mentioned are my dog details')\n",
    "    def show_detls(self):\n",
    "        print('my dog name is',self.name)\n",
    "        print('my dog sounds like', self.sounds)\n",
    "        print('my dog is a', self.trustworthy)\n",
    "        print('my dog is very', self.friendly)"
   ]
  },
  {
   "cell_type": "code",
   "execution_count": 68,
   "id": "dc3af0cc",
   "metadata": {},
   "outputs": [
    {
     "name": "stdout",
     "output_type": "stream",
     "text": [
      "above mentioned are my dog details\n"
     ]
    }
   ],
   "source": [
    "d1= dog('Raja','bow bow','trusty','friendly with family')"
   ]
  },
  {
   "cell_type": "code",
   "execution_count": 69,
   "id": "2a458350",
   "metadata": {},
   "outputs": [
    {
     "name": "stdout",
     "output_type": "stream",
     "text": [
      "my dog name is Raja\n",
      "my dog sounds like bow bow\n",
      "my dog is a trusty\n",
      "my dog is very friendly with family\n"
     ]
    }
   ],
   "source": [
    "d1.show_detls()"
   ]
  },
  {
   "cell_type": "code",
   "execution_count": 70,
   "id": "e563ccb7",
   "metadata": {},
   "outputs": [
    {
     "name": "stdout",
     "output_type": "stream",
     "text": [
      "above mentioned are my dog details\n"
     ]
    }
   ],
   "source": [
    "d1= dog('fahi','bow bow','trusty','friendly with family')       ## Attribute changes"
   ]
  },
  {
   "cell_type": "code",
   "execution_count": 72,
   "id": "fbb79df4",
   "metadata": {},
   "outputs": [
    {
     "name": "stdout",
     "output_type": "stream",
     "text": [
      "my dog name is fahi\n",
      "my dog sounds like bow bow\n",
      "my dog is a trusty\n",
      "my dog is very friendly with family\n"
     ]
    }
   ],
   "source": [
    "d1.show_detls()"
   ]
  },
  {
   "cell_type": "code",
   "execution_count": null,
   "id": "5ea27faa",
   "metadata": {},
   "outputs": [],
   "source": []
  }
 ],
 "metadata": {
  "kernelspec": {
   "display_name": "Python 3",
   "language": "python",
   "name": "python3"
  },
  "language_info": {
   "codemirror_mode": {
    "name": "ipython",
    "version": 3
   },
   "file_extension": ".py",
   "mimetype": "text/x-python",
   "name": "python",
   "nbconvert_exporter": "python",
   "pygments_lexer": "ipython3",
   "version": "3.8.8"
  }
 },
 "nbformat": 4,
 "nbformat_minor": 5
}
