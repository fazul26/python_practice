{
 "cells": [
  {
   "cell_type": "markdown",
   "id": "848d4684",
   "metadata": {},
   "source": [
    "# Day 2 Practice"
   ]
  },
  {
   "cell_type": "code",
   "execution_count": 18,
   "id": "6dffc5d9",
   "metadata": {},
   "outputs": [],
   "source": [
    "#string buil-tn methods"
   ]
  },
  {
   "cell_type": "code",
   "execution_count": 19,
   "id": "e3822423",
   "metadata": {},
   "outputs": [],
   "source": [
    "name='fazul Rahaman'"
   ]
  },
  {
   "cell_type": "code",
   "execution_count": 20,
   "id": "1f5dde74",
   "metadata": {},
   "outputs": [
    {
     "data": {
      "text/plain": [
       "'fazul Rahaman'"
      ]
     },
     "execution_count": 20,
     "metadata": {},
     "output_type": "execute_result"
    }
   ],
   "source": [
    "name"
   ]
  },
  {
   "cell_type": "code",
   "execution_count": 21,
   "id": "5b6df190",
   "metadata": {},
   "outputs": [
    {
     "data": {
      "text/plain": [
       "'Fazul Rahaman'"
      ]
     },
     "execution_count": 21,
     "metadata": {},
     "output_type": "execute_result"
    }
   ],
   "source": [
    "name.title()"
   ]
  },
  {
   "cell_type": "code",
   "execution_count": 22,
   "id": "45a179df",
   "metadata": {},
   "outputs": [
    {
     "data": {
      "text/plain": [
       "'FAZUL RAHAMAN'"
      ]
     },
     "execution_count": 22,
     "metadata": {},
     "output_type": "execute_result"
    }
   ],
   "source": [
    "name.upper()"
   ]
  },
  {
   "cell_type": "code",
   "execution_count": 23,
   "id": "88561228",
   "metadata": {},
   "outputs": [
    {
     "data": {
      "text/plain": [
       "'fazul rahaman'"
      ]
     },
     "execution_count": 23,
     "metadata": {},
     "output_type": "execute_result"
    }
   ],
   "source": [
    "name.lower()"
   ]
  },
  {
   "cell_type": "code",
   "execution_count": 24,
   "id": "5d508753",
   "metadata": {},
   "outputs": [
    {
     "data": {
      "text/plain": [
       "13"
      ]
     },
     "execution_count": 24,
     "metadata": {},
     "output_type": "execute_result"
    }
   ],
   "source": [
    "len(name)"
   ]
  },
  {
   "cell_type": "code",
   "execution_count": 25,
   "id": "5d0148eb",
   "metadata": {},
   "outputs": [
    {
     "data": {
      "text/plain": [
       "str"
      ]
     },
     "execution_count": 25,
     "metadata": {},
     "output_type": "execute_result"
    }
   ],
   "source": [
    "type(name)"
   ]
  },
  {
   "cell_type": "code",
   "execution_count": null,
   "id": "9b548f81",
   "metadata": {},
   "outputs": [],
   "source": [
    "# \\t,\\n"
   ]
  },
  {
   "cell_type": "code",
   "execution_count": 96,
   "id": "f420b1e1",
   "metadata": {},
   "outputs": [],
   "source": [
    "course= \"    python\""
   ]
  },
  {
   "cell_type": "code",
   "execution_count": 64,
   "id": "4835dc0f",
   "metadata": {},
   "outputs": [
    {
     "data": {
      "text/plain": [
       "'    python'"
      ]
     },
     "execution_count": 64,
     "metadata": {},
     "output_type": "execute_result"
    }
   ],
   "source": [
    "course"
   ]
  },
  {
   "cell_type": "code",
   "execution_count": 65,
   "id": "33d1afb0",
   "metadata": {},
   "outputs": [
    {
     "data": {
      "text/plain": [
       "'python'"
      ]
     },
     "execution_count": 65,
     "metadata": {},
     "output_type": "execute_result"
    }
   ],
   "source": [
    "course.lstrip()"
   ]
  },
  {
   "cell_type": "code",
   "execution_count": 66,
   "id": "78f85f07",
   "metadata": {},
   "outputs": [
    {
     "data": {
      "text/plain": [
       "'    python'"
      ]
     },
     "execution_count": 66,
     "metadata": {},
     "output_type": "execute_result"
    }
   ],
   "source": [
    "course.rstrip()"
   ]
  },
  {
   "cell_type": "code",
   "execution_count": 98,
   "id": "f9e1ef79",
   "metadata": {},
   "outputs": [],
   "source": [
    "course=\"\\tpython\""
   ]
  },
  {
   "cell_type": "code",
   "execution_count": 99,
   "id": "533d5395",
   "metadata": {},
   "outputs": [
    {
     "name": "stdout",
     "output_type": "stream",
     "text": [
      "\tpython\n"
     ]
    }
   ],
   "source": [
    "print(course)"
   ]
  },
  {
   "cell_type": "code",
   "execution_count": 109,
   "id": "12f8e824",
   "metadata": {},
   "outputs": [],
   "source": [
    "languages_i_know=('language:' '\\n\\tpython''\\n\\tAWS''\\n\\tSQL''\\n\\thtml')"
   ]
  },
  {
   "cell_type": "code",
   "execution_count": 110,
   "id": "9b193b06",
   "metadata": {},
   "outputs": [
    {
     "name": "stdout",
     "output_type": "stream",
     "text": [
      "language:\n",
      "\tpython\n",
      "\tAWS\n",
      "\tSQL\n",
      "\thtml\n"
     ]
    }
   ],
   "source": [
    "print(languages_i_know)"
   ]
  },
  {
   "cell_type": "code",
   "execution_count": 32,
   "id": "669483d9",
   "metadata": {},
   "outputs": [],
   "source": [
    "#arthematic operation"
   ]
  },
  {
   "cell_type": "code",
   "execution_count": 33,
   "id": "cf8a888f",
   "metadata": {},
   "outputs": [],
   "source": [
    "a=10\n",
    "b=20\n",
    "c=(a,b)"
   ]
  },
  {
   "cell_type": "code",
   "execution_count": 34,
   "id": "175c49b9",
   "metadata": {},
   "outputs": [
    {
     "data": {
      "text/plain": [
       "(10, 20)"
      ]
     },
     "execution_count": 34,
     "metadata": {},
     "output_type": "execute_result"
    }
   ],
   "source": [
    "c"
   ]
  },
  {
   "cell_type": "code",
   "execution_count": 35,
   "id": "4ca30aec",
   "metadata": {},
   "outputs": [
    {
     "data": {
      "text/plain": [
       "30"
      ]
     },
     "execution_count": 35,
     "metadata": {},
     "output_type": "execute_result"
    }
   ],
   "source": [
    "a+b"
   ]
  },
  {
   "cell_type": "code",
   "execution_count": 36,
   "id": "bc73ceaa",
   "metadata": {},
   "outputs": [
    {
     "data": {
      "text/plain": [
       "-10"
      ]
     },
     "execution_count": 36,
     "metadata": {},
     "output_type": "execute_result"
    }
   ],
   "source": [
    "a-b"
   ]
  },
  {
   "cell_type": "code",
   "execution_count": 37,
   "id": "3f8a24f2",
   "metadata": {},
   "outputs": [
    {
     "data": {
      "text/plain": [
       "200"
      ]
     },
     "execution_count": 37,
     "metadata": {},
     "output_type": "execute_result"
    }
   ],
   "source": [
    "a*b"
   ]
  },
  {
   "cell_type": "code",
   "execution_count": 38,
   "id": "732aefcf",
   "metadata": {},
   "outputs": [
    {
     "data": {
      "text/plain": [
       "0.5"
      ]
     },
     "execution_count": 38,
     "metadata": {},
     "output_type": "execute_result"
    }
   ],
   "source": [
    "a/b"
   ]
  },
  {
   "cell_type": "code",
   "execution_count": 39,
   "id": "76988581",
   "metadata": {},
   "outputs": [
    {
     "data": {
      "text/plain": [
       "10"
      ]
     },
     "execution_count": 39,
     "metadata": {},
     "output_type": "execute_result"
    }
   ],
   "source": [
    "a%b"
   ]
  },
  {
   "cell_type": "code",
   "execution_count": 40,
   "id": "8626b274",
   "metadata": {},
   "outputs": [
    {
     "data": {
      "text/plain": [
       "tuple"
      ]
     },
     "execution_count": 40,
     "metadata": {},
     "output_type": "execute_result"
    }
   ],
   "source": [
    "type(c)"
   ]
  },
  {
   "cell_type": "code",
   "execution_count": 41,
   "id": "847c48e5",
   "metadata": {},
   "outputs": [],
   "source": [
    "#list "
   ]
  },
  {
   "cell_type": "code",
   "execution_count": 42,
   "id": "1f924839",
   "metadata": {},
   "outputs": [
    {
     "data": {
      "text/plain": [
       "['fazul', '29', 'male', 'b.tech', 'EEE']"
      ]
     },
     "execution_count": 42,
     "metadata": {},
     "output_type": "execute_result"
    }
   ],
   "source": [
    "details=['fazul','29','male','b.tech','EEE',]\n",
    "details"
   ]
  },
  {
   "cell_type": "code",
   "execution_count": 46,
   "id": "fa683502",
   "metadata": {},
   "outputs": [
    {
     "data": {
      "text/plain": [
       "['fazul', '29', 'male', 'b.tech', 'EEE', 'kurnool']"
      ]
     },
     "execution_count": 46,
     "metadata": {},
     "output_type": "execute_result"
    }
   ],
   "source": [
    "details.append('kurnool')\n",
    "details"
   ]
  },
  {
   "cell_type": "code",
   "execution_count": 48,
   "id": "48feab61",
   "metadata": {},
   "outputs": [
    {
     "data": {
      "text/plain": [
       "'29'"
      ]
     },
     "execution_count": 48,
     "metadata": {},
     "output_type": "execute_result"
    }
   ],
   "source": [
    "details[1]\n"
   ]
  },
  {
   "cell_type": "code",
   "execution_count": 49,
   "id": "b8cf0c94",
   "metadata": {},
   "outputs": [
    {
     "data": {
      "text/plain": [
       "['male', 'b.tech']"
      ]
     },
     "execution_count": 49,
     "metadata": {},
     "output_type": "execute_result"
    }
   ],
   "source": [
    "details[2:4]"
   ]
  },
  {
   "cell_type": "code",
   "execution_count": 50,
   "id": "da4a3021",
   "metadata": {},
   "outputs": [
    {
     "data": {
      "text/plain": [
       "['fazul', '29', 'male', 'b.tech', 'EEE', 'safa college', 'kurnool']"
      ]
     },
     "execution_count": 50,
     "metadata": {},
     "output_type": "execute_result"
    }
   ],
   "source": [
    "details.insert(5,'safa college')\n",
    "details"
   ]
  },
  {
   "cell_type": "code",
   "execution_count": 51,
   "id": "e214ff16",
   "metadata": {},
   "outputs": [
    {
     "data": {
      "text/plain": [
       "list"
      ]
     },
     "execution_count": 51,
     "metadata": {},
     "output_type": "execute_result"
    }
   ],
   "source": [
    "type(details)"
   ]
  },
  {
   "cell_type": "code",
   "execution_count": 52,
   "id": "d5693796",
   "metadata": {},
   "outputs": [
    {
     "data": {
      "text/plain": [
       "7"
      ]
     },
     "execution_count": 52,
     "metadata": {},
     "output_type": "execute_result"
    }
   ],
   "source": [
    "len(details)"
   ]
  },
  {
   "cell_type": "code",
   "execution_count": 67,
   "id": "aa67e474",
   "metadata": {},
   "outputs": [
    {
     "data": {
      "text/plain": [
       "['fazul', '29', 'male', 'b.tech', 'EEE', 'safa college']"
      ]
     },
     "execution_count": 67,
     "metadata": {},
     "output_type": "execute_result"
    }
   ],
   "source": [
    "details.pop()\n",
    "details"
   ]
  },
  {
   "cell_type": "code",
   "execution_count": 68,
   "id": "59fed414",
   "metadata": {},
   "outputs": [
    {
     "data": {
      "text/plain": [
       "['fazul', '29', 'male', 'b.tech', 'EEE', 'safa college']"
      ]
     },
     "execution_count": 68,
     "metadata": {},
     "output_type": "execute_result"
    }
   ],
   "source": [
    "details"
   ]
  },
  {
   "cell_type": "code",
   "execution_count": 69,
   "id": "9d1d8e10",
   "metadata": {},
   "outputs": [],
   "source": [
    "extra=['kurnool','ap']"
   ]
  },
  {
   "cell_type": "code",
   "execution_count": 70,
   "id": "5c345eba",
   "metadata": {},
   "outputs": [
    {
     "data": {
      "text/plain": [
       "['kurnool', 'ap']"
      ]
     },
     "execution_count": 70,
     "metadata": {},
     "output_type": "execute_result"
    }
   ],
   "source": [
    "extra"
   ]
  },
  {
   "cell_type": "code",
   "execution_count": 71,
   "id": "d2b2a768",
   "metadata": {},
   "outputs": [],
   "source": [
    "details.extend(extra)"
   ]
  },
  {
   "cell_type": "code",
   "execution_count": 73,
   "id": "6cb410cd",
   "metadata": {},
   "outputs": [
    {
     "data": {
      "text/plain": [
       "['fazul', '29', 'male', 'b.tech', 'EEE', 'safa college', 'kurnool', 'ap']"
      ]
     },
     "execution_count": 73,
     "metadata": {},
     "output_type": "execute_result"
    }
   ],
   "source": [
    "details"
   ]
  },
  {
   "cell_type": "code",
   "execution_count": 74,
   "id": "9703530a",
   "metadata": {},
   "outputs": [
    {
     "data": {
      "text/plain": [
       "0"
      ]
     },
     "execution_count": 74,
     "metadata": {},
     "output_type": "execute_result"
    }
   ],
   "source": [
    "details.count(a)"
   ]
  },
  {
   "cell_type": "code",
   "execution_count": 78,
   "id": "715a0b82",
   "metadata": {},
   "outputs": [
    {
     "data": {
      "text/plain": [
       "['fazul', '29', 'male', 'b.tech', 'EEE', 'safa college', 'kurnool', 'ap']"
      ]
     },
     "execution_count": 78,
     "metadata": {},
     "output_type": "execute_result"
    }
   ],
   "source": [
    "details"
   ]
  },
  {
   "cell_type": "code",
   "execution_count": 79,
   "id": "e67b42c7",
   "metadata": {},
   "outputs": [
    {
     "data": {
      "text/plain": [
       "1"
      ]
     },
     "execution_count": 79,
     "metadata": {},
     "output_type": "execute_result"
    }
   ],
   "source": [
    "details.count('fazul')"
   ]
  },
  {
   "cell_type": "code",
   "execution_count": null,
   "id": "518882bf",
   "metadata": {},
   "outputs": [],
   "source": []
  }
 ],
 "metadata": {
  "kernelspec": {
   "display_name": "Python 3",
   "language": "python",
   "name": "python3"
  },
  "language_info": {
   "codemirror_mode": {
    "name": "ipython",
    "version": 3
   },
   "file_extension": ".py",
   "mimetype": "text/x-python",
   "name": "python",
   "nbconvert_exporter": "python",
   "pygments_lexer": "ipython3",
   "version": "3.8.8"
  }
 },
 "nbformat": 4,
 "nbformat_minor": 5
}
