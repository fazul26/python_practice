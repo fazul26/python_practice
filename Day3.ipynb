{
 "cells": [
  {
   "cell_type": "markdown",
   "id": "f7470792",
   "metadata": {},
   "source": [
    "# Day 3_practice"
   ]
  },
  {
   "cell_type": "code",
   "execution_count": 1,
   "id": "2bf33b4d",
   "metadata": {},
   "outputs": [],
   "source": [
    "#list built-in methods"
   ]
  },
  {
   "cell_type": "code",
   "execution_count": 2,
   "id": "864e7813",
   "metadata": {},
   "outputs": [],
   "source": [
    "sports=['cricket','football','tennis','badminton','kabaddi','gymnastic']"
   ]
  },
  {
   "cell_type": "code",
   "execution_count": 3,
   "id": "cfefe02b",
   "metadata": {},
   "outputs": [
    {
     "data": {
      "text/plain": [
       "'football'"
      ]
     },
     "execution_count": 3,
     "metadata": {},
     "output_type": "execute_result"
    }
   ],
   "source": [
    "sports[1]      #slicing +ve"
   ]
  },
  {
   "cell_type": "code",
   "execution_count": 24,
   "id": "896fb0f8",
   "metadata": {},
   "outputs": [
    {
     "data": {
      "text/plain": [
       "'BADMINTON'"
      ]
     },
     "execution_count": 24,
     "metadata": {},
     "output_type": "execute_result"
    }
   ],
   "source": [
    "sports[-1].upper()     #slicing +ve with upper"
   ]
  },
  {
   "cell_type": "code",
   "execution_count": 7,
   "id": "6341d29d",
   "metadata": {},
   "outputs": [
    {
     "data": {
      "text/plain": [
       "['football', 'tennis', 'badminton']"
      ]
     },
     "execution_count": 7,
     "metadata": {},
     "output_type": "execute_result"
    }
   ],
   "source": [
    "sports[-5:-2]            #slicing Range -ve string"
   ]
  },
  {
   "cell_type": "code",
   "execution_count": 8,
   "id": "0bb62ce1",
   "metadata": {},
   "outputs": [
    {
     "data": {
      "text/plain": [
       "['cricket', 'football', 'tennis', 'badminton', 'kabaddi', 'gymnastic']"
      ]
     },
     "execution_count": 8,
     "metadata": {},
     "output_type": "execute_result"
    }
   ],
   "source": [
    "sports"
   ]
  },
  {
   "cell_type": "code",
   "execution_count": 9,
   "id": "8f232ed6",
   "metadata": {},
   "outputs": [],
   "source": [
    "sports.sort()          #sort"
   ]
  },
  {
   "cell_type": "code",
   "execution_count": 10,
   "id": "a4bd86c6",
   "metadata": {},
   "outputs": [
    {
     "data": {
      "text/plain": [
       "['badminton', 'cricket', 'football', 'gymnastic', 'kabaddi', 'tennis']"
      ]
     },
     "execution_count": 10,
     "metadata": {},
     "output_type": "execute_result"
    }
   ],
   "source": [
    "sports"
   ]
  },
  {
   "cell_type": "code",
   "execution_count": 12,
   "id": "327f494b",
   "metadata": {},
   "outputs": [],
   "source": [
    "sports.reverse()       #Revers"
   ]
  },
  {
   "cell_type": "code",
   "execution_count": 13,
   "id": "9c917e11",
   "metadata": {},
   "outputs": [
    {
     "data": {
      "text/plain": [
       "['tennis', 'kabaddi', 'gymnastic', 'football', 'cricket', 'badminton']"
      ]
     },
     "execution_count": 13,
     "metadata": {},
     "output_type": "execute_result"
    }
   ],
   "source": [
    "sports"
   ]
  },
  {
   "cell_type": "code",
   "execution_count": 23,
   "id": "f998281a",
   "metadata": {},
   "outputs": [
    {
     "data": {
      "text/plain": [
       "['tennis', 'kabaddi']"
      ]
     },
     "execution_count": 23,
     "metadata": {},
     "output_type": "execute_result"
    }
   ],
   "source": [
    "sports[-6:-4]"
   ]
  },
  {
   "cell_type": "code",
   "execution_count": 17,
   "id": "924ec6ed",
   "metadata": {},
   "outputs": [
    {
     "data": {
      "text/plain": [
       "['tennis', 'kabaddi', 'gymnastic', 'football', 'cricket', 'badminton']"
      ]
     },
     "execution_count": 17,
     "metadata": {},
     "output_type": "execute_result"
    }
   ],
   "source": [
    "sports"
   ]
  },
  {
   "cell_type": "code",
   "execution_count": 18,
   "id": "b171f6be",
   "metadata": {},
   "outputs": [],
   "source": [
    "sports_new=sports[2:5]     #copy the elements"
   ]
  },
  {
   "cell_type": "code",
   "execution_count": 19,
   "id": "0a633856",
   "metadata": {},
   "outputs": [
    {
     "data": {
      "text/plain": [
       "['gymnastic', 'football', 'cricket']"
      ]
     },
     "execution_count": 19,
     "metadata": {},
     "output_type": "execute_result"
    }
   ],
   "source": [
    "sports_new"
   ]
  },
  {
   "cell_type": "code",
   "execution_count": 20,
   "id": "b0fbb0d4",
   "metadata": {},
   "outputs": [
    {
     "data": {
      "text/plain": [
       "1"
      ]
     },
     "execution_count": 20,
     "metadata": {},
     "output_type": "execute_result"
    }
   ],
   "source": [
    "sports_new.count('cricket')       #count elements"
   ]
  },
  {
   "cell_type": "code",
   "execution_count": 25,
   "id": "172d0fdc",
   "metadata": {},
   "outputs": [
    {
     "data": {
      "text/plain": [
       "['tennis', 'kabaddi', 'gymnastic', 'football', 'cricket', 'badminton']"
      ]
     },
     "execution_count": 25,
     "metadata": {},
     "output_type": "execute_result"
    }
   ],
   "source": [
    "sports"
   ]
  },
  {
   "cell_type": "code",
   "execution_count": 26,
   "id": "d0c7d0b7",
   "metadata": {},
   "outputs": [],
   "source": [
    "sports.remove('gymnastic')   #Remove elements"
   ]
  },
  {
   "cell_type": "code",
   "execution_count": 27,
   "id": "b8c79798",
   "metadata": {},
   "outputs": [
    {
     "data": {
      "text/plain": [
       "['tennis', 'kabaddi', 'football', 'cricket', 'badminton']"
      ]
     },
     "execution_count": 27,
     "metadata": {},
     "output_type": "execute_result"
    }
   ],
   "source": [
    "sports"
   ]
  },
  {
   "cell_type": "code",
   "execution_count": 28,
   "id": "461e71da",
   "metadata": {},
   "outputs": [
    {
     "data": {
      "text/plain": [
       "'badminton'"
      ]
     },
     "execution_count": 28,
     "metadata": {},
     "output_type": "execute_result"
    }
   ],
   "source": [
    "sports.pop()     #pop elements"
   ]
  },
  {
   "cell_type": "code",
   "execution_count": 39,
   "id": "9b656db0",
   "metadata": {},
   "outputs": [
    {
     "data": {
      "text/plain": [
       "['cricket', 'football', 'tennis', 'badminton', 'kabaddi', 'gymnastic']"
      ]
     },
     "execution_count": 39,
     "metadata": {},
     "output_type": "execute_result"
    }
   ],
   "source": [
    "sports"
   ]
  },
  {
   "cell_type": "code",
   "execution_count": 40,
   "id": "3cd4bb94",
   "metadata": {},
   "outputs": [],
   "source": [
    "sports.clear()    #clear elements"
   ]
  },
  {
   "cell_type": "code",
   "execution_count": 41,
   "id": "2f3aa7d3",
   "metadata": {},
   "outputs": [
    {
     "data": {
      "text/plain": [
       "[]"
      ]
     },
     "execution_count": 41,
     "metadata": {},
     "output_type": "execute_result"
    }
   ],
   "source": [
    "sports"
   ]
  },
  {
   "cell_type": "code",
   "execution_count": 29,
   "id": "33f66200",
   "metadata": {},
   "outputs": [],
   "source": [
    "#for loop"
   ]
  },
  {
   "cell_type": "code",
   "execution_count": 30,
   "id": "50279d13",
   "metadata": {},
   "outputs": [],
   "source": [
    "sports=['cricket','football','tennis','badminton','kabaddi','gymnastic']"
   ]
  },
  {
   "cell_type": "code",
   "execution_count": 38,
   "id": "903e073e",
   "metadata": {},
   "outputs": [
    {
     "name": "stdout",
     "output_type": "stream",
     "text": [
      "fazul plays all these sports\n",
      "cricket\n",
      "football\n",
      "tennis\n",
      "badminton\n",
      "kabaddi\n",
      "gymnastic\n"
     ]
    }
   ],
   "source": [
    "print('fazul plays all these sports')\n",
    "for fazul in sports:\n",
    "    print(fazul)"
   ]
  },
  {
   "cell_type": "code",
   "execution_count": 43,
   "id": "040311b8",
   "metadata": {},
   "outputs": [
    {
     "name": "stdout",
     "output_type": "stream",
     "text": [
      "F\n",
      "a\n",
      "z\n",
      "u\n",
      "l\n"
     ]
    }
   ],
   "source": [
    "name='Fazul'\n",
    "for x in name:\n",
    "    print(x)"
   ]
  },
  {
   "cell_type": "code",
   "execution_count": null,
   "id": "33187107",
   "metadata": {},
   "outputs": [],
   "source": []
  }
 ],
 "metadata": {
  "kernelspec": {
   "display_name": "Python 3",
   "language": "python",
   "name": "python3"
  },
  "language_info": {
   "codemirror_mode": {
    "name": "ipython",
    "version": 3
   },
   "file_extension": ".py",
   "mimetype": "text/x-python",
   "name": "python",
   "nbconvert_exporter": "python",
   "pygments_lexer": "ipython3",
   "version": "3.8.8"
  }
 },
 "nbformat": 4,
 "nbformat_minor": 5
}
